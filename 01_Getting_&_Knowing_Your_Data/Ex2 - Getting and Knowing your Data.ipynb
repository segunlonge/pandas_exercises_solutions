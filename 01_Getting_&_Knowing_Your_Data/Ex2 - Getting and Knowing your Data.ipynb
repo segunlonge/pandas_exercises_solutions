{
 "cells": [
  {
   "cell_type": "raw",
   "id": "577c0af7",
   "metadata": {},
   "source": [
    "Step 1. Import the necessary libraries"
   ]
  },
  {
   "cell_type": "code",
   "execution_count": 39,
   "id": "cd6face7",
   "metadata": {},
   "outputs": [],
   "source": [
    "import pandas as pd"
   ]
  },
  {
   "cell_type": "raw",
   "id": "463bfc64",
   "metadata": {},
   "source": [
    "Step 2. Import the dataset from this address (https://raw.githubusercontent.com/justmarkham/DAT8/master/data/chipotle.tsv)\n",
    "(The URL of the TSV file on the website)\n",
    "Note: TSV is very similar to CSV but TSV is a very efficient for Javascript/Perl/Python to process. TSV is mainly for processing by software such as Python whilst CSV is mainly for importing by Excel.\n"
   ]
  },
  {
   "cell_type": "code",
   "execution_count": 40,
   "id": "298a06a0",
   "metadata": {},
   "outputs": [],
   "source": [
    "url = 'https://raw.githubusercontent.com/justmarkham/DAT8/master/data/chipotle.tsv'"
   ]
  },
  {
   "cell_type": "raw",
   "id": "a60d1c41",
   "metadata": {},
   "source": [
    "Step 3. Assign it to a variable called chipo.\n",
    "Use the read_csv() function to read the TSV data and specify the argument sep='\\t' to tell it it is tab delimited\n",
    "chipo = pd.read_csv(url, sep='\\t')"
   ]
  },
  {
   "cell_type": "code",
   "execution_count": 41,
   "id": "6a8a8d57",
   "metadata": {},
   "outputs": [],
   "source": [
    "chipo = pd.read_csv(url, sep='\\t')"
   ]
  },
  {
   "cell_type": "raw",
   "id": "d5d7085a",
   "metadata": {},
   "source": [
    "Step 4. See the first 10 entries"
   ]
  },
  {
   "cell_type": "code",
   "execution_count": 5,
   "id": "9a48b3e7",
   "metadata": {},
   "outputs": [
    {
     "data": {
      "text/html": [
       "<div>\n",
       "<style scoped>\n",
       "    .dataframe tbody tr th:only-of-type {\n",
       "        vertical-align: middle;\n",
       "    }\n",
       "\n",
       "    .dataframe tbody tr th {\n",
       "        vertical-align: top;\n",
       "    }\n",
       "\n",
       "    .dataframe thead th {\n",
       "        text-align: right;\n",
       "    }\n",
       "</style>\n",
       "<table border=\"1\" class=\"dataframe\">\n",
       "  <thead>\n",
       "    <tr style=\"text-align: right;\">\n",
       "      <th></th>\n",
       "      <th>order_id</th>\n",
       "      <th>quantity</th>\n",
       "      <th>item_name</th>\n",
       "      <th>choice_description</th>\n",
       "      <th>item_price</th>\n",
       "    </tr>\n",
       "  </thead>\n",
       "  <tbody>\n",
       "    <tr>\n",
       "      <th>0</th>\n",
       "      <td>1</td>\n",
       "      <td>1</td>\n",
       "      <td>Chips and Fresh Tomato Salsa</td>\n",
       "      <td>NaN</td>\n",
       "      <td>$2.39</td>\n",
       "    </tr>\n",
       "    <tr>\n",
       "      <th>1</th>\n",
       "      <td>1</td>\n",
       "      <td>1</td>\n",
       "      <td>Izze</td>\n",
       "      <td>[Clementine]</td>\n",
       "      <td>$3.39</td>\n",
       "    </tr>\n",
       "    <tr>\n",
       "      <th>2</th>\n",
       "      <td>1</td>\n",
       "      <td>1</td>\n",
       "      <td>Nantucket Nectar</td>\n",
       "      <td>[Apple]</td>\n",
       "      <td>$3.39</td>\n",
       "    </tr>\n",
       "    <tr>\n",
       "      <th>3</th>\n",
       "      <td>1</td>\n",
       "      <td>1</td>\n",
       "      <td>Chips and Tomatillo-Green Chili Salsa</td>\n",
       "      <td>NaN</td>\n",
       "      <td>$2.39</td>\n",
       "    </tr>\n",
       "    <tr>\n",
       "      <th>4</th>\n",
       "      <td>2</td>\n",
       "      <td>2</td>\n",
       "      <td>Chicken Bowl</td>\n",
       "      <td>[Tomatillo-Red Chili Salsa (Hot), [Black Beans...</td>\n",
       "      <td>$16.98</td>\n",
       "    </tr>\n",
       "    <tr>\n",
       "      <th>5</th>\n",
       "      <td>3</td>\n",
       "      <td>1</td>\n",
       "      <td>Chicken Bowl</td>\n",
       "      <td>[Fresh Tomato Salsa (Mild), [Rice, Cheese, Sou...</td>\n",
       "      <td>$10.98</td>\n",
       "    </tr>\n",
       "    <tr>\n",
       "      <th>6</th>\n",
       "      <td>3</td>\n",
       "      <td>1</td>\n",
       "      <td>Side of Chips</td>\n",
       "      <td>NaN</td>\n",
       "      <td>$1.69</td>\n",
       "    </tr>\n",
       "    <tr>\n",
       "      <th>7</th>\n",
       "      <td>4</td>\n",
       "      <td>1</td>\n",
       "      <td>Steak Burrito</td>\n",
       "      <td>[Tomatillo Red Chili Salsa, [Fajita Vegetables...</td>\n",
       "      <td>$11.75</td>\n",
       "    </tr>\n",
       "    <tr>\n",
       "      <th>8</th>\n",
       "      <td>4</td>\n",
       "      <td>1</td>\n",
       "      <td>Steak Soft Tacos</td>\n",
       "      <td>[Tomatillo Green Chili Salsa, [Pinto Beans, Ch...</td>\n",
       "      <td>$9.25</td>\n",
       "    </tr>\n",
       "    <tr>\n",
       "      <th>9</th>\n",
       "      <td>5</td>\n",
       "      <td>1</td>\n",
       "      <td>Steak Burrito</td>\n",
       "      <td>[Fresh Tomato Salsa, [Rice, Black Beans, Pinto...</td>\n",
       "      <td>$9.25</td>\n",
       "    </tr>\n",
       "  </tbody>\n",
       "</table>\n",
       "</div>"
      ],
      "text/plain": [
       "   order_id  quantity                              item_name   \n",
       "0         1         1           Chips and Fresh Tomato Salsa  \\\n",
       "1         1         1                                   Izze   \n",
       "2         1         1                       Nantucket Nectar   \n",
       "3         1         1  Chips and Tomatillo-Green Chili Salsa   \n",
       "4         2         2                           Chicken Bowl   \n",
       "5         3         1                           Chicken Bowl   \n",
       "6         3         1                          Side of Chips   \n",
       "7         4         1                          Steak Burrito   \n",
       "8         4         1                       Steak Soft Tacos   \n",
       "9         5         1                          Steak Burrito   \n",
       "\n",
       "                                  choice_description item_price  \n",
       "0                                                NaN     $2.39   \n",
       "1                                       [Clementine]     $3.39   \n",
       "2                                            [Apple]     $3.39   \n",
       "3                                                NaN     $2.39   \n",
       "4  [Tomatillo-Red Chili Salsa (Hot), [Black Beans...    $16.98   \n",
       "5  [Fresh Tomato Salsa (Mild), [Rice, Cheese, Sou...    $10.98   \n",
       "6                                                NaN     $1.69   \n",
       "7  [Tomatillo Red Chili Salsa, [Fajita Vegetables...    $11.75   \n",
       "8  [Tomatillo Green Chili Salsa, [Pinto Beans, Ch...     $9.25   \n",
       "9  [Fresh Tomato Salsa, [Rice, Black Beans, Pinto...     $9.25   "
      ]
     },
     "execution_count": 5,
     "metadata": {},
     "output_type": "execute_result"
    }
   ],
   "source": [
    "chipo.head(10)"
   ]
  },
  {
   "cell_type": "code",
   "execution_count": 4,
   "id": "f0f87dcf",
   "metadata": {},
   "outputs": [
    {
     "name": "stdout",
     "output_type": "stream",
     "text": [
      "4622\n"
     ]
    }
   ],
   "source": [
    "# Step 5. What is the number of observations in the dataset (solution 1)?\n",
    "# counts the number of rows in a dataframe\n",
    "print(len(chipo))"
   ]
  },
  {
   "cell_type": "code",
   "execution_count": 7,
   "id": "a65c531e",
   "metadata": {},
   "outputs": [
    {
     "name": "stdout",
     "output_type": "stream",
     "text": [
      "<bound method DataFrame.count of       order_id  quantity                              item_name   \n",
      "0            1         1           Chips and Fresh Tomato Salsa  \\\n",
      "1            1         1                                   Izze   \n",
      "2            1         1                       Nantucket Nectar   \n",
      "3            1         1  Chips and Tomatillo-Green Chili Salsa   \n",
      "4            2         2                           Chicken Bowl   \n",
      "...        ...       ...                                    ...   \n",
      "4617      1833         1                          Steak Burrito   \n",
      "4618      1833         1                          Steak Burrito   \n",
      "4619      1834         1                     Chicken Salad Bowl   \n",
      "4620      1834         1                     Chicken Salad Bowl   \n",
      "4621      1834         1                     Chicken Salad Bowl   \n",
      "\n",
      "                                     choice_description item_price  \n",
      "0                                                   NaN     $2.39   \n",
      "1                                          [Clementine]     $3.39   \n",
      "2                                               [Apple]     $3.39   \n",
      "3                                                   NaN     $2.39   \n",
      "4     [Tomatillo-Red Chili Salsa (Hot), [Black Beans...    $16.98   \n",
      "...                                                 ...        ...  \n",
      "4617  [Fresh Tomato Salsa, [Rice, Black Beans, Sour ...    $11.75   \n",
      "4618  [Fresh Tomato Salsa, [Rice, Sour Cream, Cheese...    $11.75   \n",
      "4619  [Fresh Tomato Salsa, [Fajita Vegetables, Pinto...    $11.25   \n",
      "4620  [Fresh Tomato Salsa, [Fajita Vegetables, Lettu...     $8.75   \n",
      "4621  [Fresh Tomato Salsa, [Fajita Vegetables, Pinto...     $8.75   \n",
      "\n",
      "[4622 rows x 5 columns]>\n"
     ]
    }
   ],
   "source": [
    "# Step 5. What is the number of observations in the dataset (solution 2)?\n",
    "#\n",
    "print(chipo.count)"
   ]
  },
  {
   "cell_type": "code",
   "execution_count": 11,
   "id": "9d2fdded",
   "metadata": {},
   "outputs": [
    {
     "name": "stdout",
     "output_type": "stream",
     "text": [
      "5\n"
     ]
    }
   ],
   "source": [
    "# Step 6. What is the number of columns in the dataset? (method 1)\n",
    "\n",
    "print(chipo.shape[1])"
   ]
  },
  {
   "cell_type": "code",
   "execution_count": 12,
   "id": "a5fbb045",
   "metadata": {},
   "outputs": [
    {
     "name": "stdout",
     "output_type": "stream",
     "text": [
      "5\n"
     ]
    }
   ],
   "source": [
    "# Step 6. What is the number of columns in the dataset? (method 2)\n",
    "\n",
    "print(len(chipo.columns))"
   ]
  },
  {
   "cell_type": "code",
   "execution_count": 4,
   "id": "a12c4be3",
   "metadata": {},
   "outputs": [
    {
     "data": {
      "text/plain": [
       "Index(['order_id', 'quantity', 'item_name', 'choice_description',\n",
       "       'item_price'],\n",
       "      dtype='object')"
      ]
     },
     "execution_count": 4,
     "metadata": {},
     "output_type": "execute_result"
    }
   ],
   "source": [
    "# Step 7: Print the name of all the columns.\n",
    "# df.columns: Gets the column labels of the DataFrame\n",
    "\n",
    "chipo.columns"
   ]
  },
  {
   "cell_type": "code",
   "execution_count": 6,
   "id": "e734dd51",
   "metadata": {},
   "outputs": [
    {
     "data": {
      "text/plain": [
       "RangeIndex(start=0, stop=4622, step=1)"
      ]
     },
     "execution_count": 6,
     "metadata": {},
     "output_type": "execute_result"
    }
   ],
   "source": [
    "# Step 8. How is the dataset indexed?\n",
    "# Dataframe.index: Get's the index values of the data types including its data type \n",
    "\n",
    "'''\n",
    "The index of a DataFrame is a series of labels that identify each row. \n",
    "The labels can be integers, strings, or any other hashable type. \n",
    "The index is used for label-based access and alignment, and can be accessed or modified using this attribute.\n",
    "'''\n",
    "\n",
    "chipo.index"
   ]
  },
  {
   "cell_type": "raw",
   "id": "8556e0d1",
   "metadata": {},
   "source": [
    "Step 9. Which was the most-ordered item?\n",
    "How to group-count by a particular colum\n",
    "The most ordered item was: Chicken Bow@726 count\n",
    "\n",
    "\n",
    "Pandas groupby().count() is used to group columns and count the number of occurrences of each unique value in a specific \n",
    "column or combination of columns.\n",
    "\n",
    "Groupby() function is used to collect identical data into groups and apply aggregation functions to the GroupBy object to \n",
    "summarize and analyze the grouped data. Common aggregation functions include sum, mean, count, min, max, and more.\n",
    "\n",
    "\n"
   ]
  },
  {
   "cell_type": "code",
   "execution_count": 5,
   "id": "fe4ed8ba",
   "metadata": {},
   "outputs": [
    {
     "data": {
      "text/plain": [
       "item_name\n",
       "6 Pack Soft Drink                         54\n",
       "Barbacoa Bowl                             66\n",
       "Barbacoa Burrito                          91\n",
       "Barbacoa Crispy Tacos                     11\n",
       "Barbacoa Salad Bowl                       10\n",
       "Barbacoa Soft Tacos                       25\n",
       "Bottled Water                            162\n",
       "Bowl                                       2\n",
       "Burrito                                    6\n",
       "Canned Soda                              104\n",
       "Canned Soft Drink                        301\n",
       "Carnitas Bowl                             68\n",
       "Carnitas Burrito                          59\n",
       "Carnitas Crispy Tacos                      7\n",
       "Carnitas Salad                             1\n",
       "Carnitas Salad Bowl                        6\n",
       "Carnitas Soft Tacos                       40\n",
       "Chicken Bowl                             726\n",
       "Chicken Burrito                          553\n",
       "Chicken Crispy Tacos                      47\n",
       "Chicken Salad                              9\n",
       "Chicken Salad Bowl                       110\n",
       "Chicken Soft Tacos                       115\n",
       "Chips                                    211\n",
       "Chips and Fresh Tomato Salsa             110\n",
       "Chips and Guacamole                      479\n",
       "Chips and Mild Fresh Tomato Salsa          1\n",
       "Chips and Roasted Chili Corn Salsa        22\n",
       "Chips and Roasted Chili-Corn Salsa        18\n",
       "Chips and Tomatillo Green Chili Salsa     43\n",
       "Chips and Tomatillo Red Chili Salsa       48\n",
       "Chips and Tomatillo-Green Chili Salsa     31\n",
       "Chips and Tomatillo-Red Chili Salsa       20\n",
       "Crispy Tacos                               2\n",
       "Izze                                      20\n",
       "Nantucket Nectar                          27\n",
       "Salad                                      2\n",
       "Side of Chips                            101\n",
       "Steak Bowl                               211\n",
       "Steak Burrito                            368\n",
       "Steak Crispy Tacos                        35\n",
       "Steak Salad                                4\n",
       "Steak Salad Bowl                          29\n",
       "Steak Soft Tacos                          55\n",
       "Veggie Bowl                               85\n",
       "Veggie Burrito                            95\n",
       "Veggie Crispy Tacos                        1\n",
       "Veggie Salad                               6\n",
       "Veggie Salad Bowl                         18\n",
       "Veggie Soft Tacos                          7\n",
       "Name: item_name, dtype: int64"
      ]
     },
     "execution_count": 5,
     "metadata": {},
     "output_type": "execute_result"
    }
   ],
   "source": [
    "chipo.groupby(['item_name'])['item_name'].count()"
   ]
  },
  {
   "cell_type": "raw",
   "id": "37146f20",
   "metadata": {},
   "source": [
    "Step 9 (Modified with assigning a column name to the count aggregate results)"
   ]
  },
  {
   "cell_type": "code",
   "execution_count": 6,
   "id": "2d0657c6",
   "metadata": {},
   "outputs": [
    {
     "data": {
      "text/html": [
       "<div>\n",
       "<style scoped>\n",
       "    .dataframe tbody tr th:only-of-type {\n",
       "        vertical-align: middle;\n",
       "    }\n",
       "\n",
       "    .dataframe tbody tr th {\n",
       "        vertical-align: top;\n",
       "    }\n",
       "\n",
       "    .dataframe thead th {\n",
       "        text-align: right;\n",
       "    }\n",
       "</style>\n",
       "<table border=\"1\" class=\"dataframe\">\n",
       "  <thead>\n",
       "    <tr style=\"text-align: right;\">\n",
       "      <th></th>\n",
       "      <th>item_name</th>\n",
       "      <th>Count of Items</th>\n",
       "    </tr>\n",
       "  </thead>\n",
       "  <tbody>\n",
       "    <tr>\n",
       "      <th>0</th>\n",
       "      <td>6 Pack Soft Drink</td>\n",
       "      <td>54</td>\n",
       "    </tr>\n",
       "    <tr>\n",
       "      <th>1</th>\n",
       "      <td>Barbacoa Bowl</td>\n",
       "      <td>66</td>\n",
       "    </tr>\n",
       "    <tr>\n",
       "      <th>2</th>\n",
       "      <td>Barbacoa Burrito</td>\n",
       "      <td>91</td>\n",
       "    </tr>\n",
       "    <tr>\n",
       "      <th>3</th>\n",
       "      <td>Barbacoa Crispy Tacos</td>\n",
       "      <td>11</td>\n",
       "    </tr>\n",
       "    <tr>\n",
       "      <th>4</th>\n",
       "      <td>Barbacoa Salad Bowl</td>\n",
       "      <td>10</td>\n",
       "    </tr>\n",
       "    <tr>\n",
       "      <th>5</th>\n",
       "      <td>Barbacoa Soft Tacos</td>\n",
       "      <td>25</td>\n",
       "    </tr>\n",
       "    <tr>\n",
       "      <th>6</th>\n",
       "      <td>Bottled Water</td>\n",
       "      <td>162</td>\n",
       "    </tr>\n",
       "    <tr>\n",
       "      <th>7</th>\n",
       "      <td>Bowl</td>\n",
       "      <td>2</td>\n",
       "    </tr>\n",
       "    <tr>\n",
       "      <th>8</th>\n",
       "      <td>Burrito</td>\n",
       "      <td>6</td>\n",
       "    </tr>\n",
       "    <tr>\n",
       "      <th>9</th>\n",
       "      <td>Canned Soda</td>\n",
       "      <td>104</td>\n",
       "    </tr>\n",
       "    <tr>\n",
       "      <th>10</th>\n",
       "      <td>Canned Soft Drink</td>\n",
       "      <td>301</td>\n",
       "    </tr>\n",
       "    <tr>\n",
       "      <th>11</th>\n",
       "      <td>Carnitas Bowl</td>\n",
       "      <td>68</td>\n",
       "    </tr>\n",
       "    <tr>\n",
       "      <th>12</th>\n",
       "      <td>Carnitas Burrito</td>\n",
       "      <td>59</td>\n",
       "    </tr>\n",
       "    <tr>\n",
       "      <th>13</th>\n",
       "      <td>Carnitas Crispy Tacos</td>\n",
       "      <td>7</td>\n",
       "    </tr>\n",
       "    <tr>\n",
       "      <th>14</th>\n",
       "      <td>Carnitas Salad</td>\n",
       "      <td>1</td>\n",
       "    </tr>\n",
       "    <tr>\n",
       "      <th>15</th>\n",
       "      <td>Carnitas Salad Bowl</td>\n",
       "      <td>6</td>\n",
       "    </tr>\n",
       "    <tr>\n",
       "      <th>16</th>\n",
       "      <td>Carnitas Soft Tacos</td>\n",
       "      <td>40</td>\n",
       "    </tr>\n",
       "    <tr>\n",
       "      <th>17</th>\n",
       "      <td>Chicken Bowl</td>\n",
       "      <td>726</td>\n",
       "    </tr>\n",
       "    <tr>\n",
       "      <th>18</th>\n",
       "      <td>Chicken Burrito</td>\n",
       "      <td>553</td>\n",
       "    </tr>\n",
       "    <tr>\n",
       "      <th>19</th>\n",
       "      <td>Chicken Crispy Tacos</td>\n",
       "      <td>47</td>\n",
       "    </tr>\n",
       "    <tr>\n",
       "      <th>20</th>\n",
       "      <td>Chicken Salad</td>\n",
       "      <td>9</td>\n",
       "    </tr>\n",
       "    <tr>\n",
       "      <th>21</th>\n",
       "      <td>Chicken Salad Bowl</td>\n",
       "      <td>110</td>\n",
       "    </tr>\n",
       "    <tr>\n",
       "      <th>22</th>\n",
       "      <td>Chicken Soft Tacos</td>\n",
       "      <td>115</td>\n",
       "    </tr>\n",
       "    <tr>\n",
       "      <th>23</th>\n",
       "      <td>Chips</td>\n",
       "      <td>211</td>\n",
       "    </tr>\n",
       "    <tr>\n",
       "      <th>24</th>\n",
       "      <td>Chips and Fresh Tomato Salsa</td>\n",
       "      <td>110</td>\n",
       "    </tr>\n",
       "    <tr>\n",
       "      <th>25</th>\n",
       "      <td>Chips and Guacamole</td>\n",
       "      <td>479</td>\n",
       "    </tr>\n",
       "    <tr>\n",
       "      <th>26</th>\n",
       "      <td>Chips and Mild Fresh Tomato Salsa</td>\n",
       "      <td>1</td>\n",
       "    </tr>\n",
       "    <tr>\n",
       "      <th>27</th>\n",
       "      <td>Chips and Roasted Chili Corn Salsa</td>\n",
       "      <td>22</td>\n",
       "    </tr>\n",
       "    <tr>\n",
       "      <th>28</th>\n",
       "      <td>Chips and Roasted Chili-Corn Salsa</td>\n",
       "      <td>18</td>\n",
       "    </tr>\n",
       "    <tr>\n",
       "      <th>29</th>\n",
       "      <td>Chips and Tomatillo Green Chili Salsa</td>\n",
       "      <td>43</td>\n",
       "    </tr>\n",
       "    <tr>\n",
       "      <th>30</th>\n",
       "      <td>Chips and Tomatillo Red Chili Salsa</td>\n",
       "      <td>48</td>\n",
       "    </tr>\n",
       "    <tr>\n",
       "      <th>31</th>\n",
       "      <td>Chips and Tomatillo-Green Chili Salsa</td>\n",
       "      <td>31</td>\n",
       "    </tr>\n",
       "    <tr>\n",
       "      <th>32</th>\n",
       "      <td>Chips and Tomatillo-Red Chili Salsa</td>\n",
       "      <td>20</td>\n",
       "    </tr>\n",
       "    <tr>\n",
       "      <th>33</th>\n",
       "      <td>Crispy Tacos</td>\n",
       "      <td>2</td>\n",
       "    </tr>\n",
       "    <tr>\n",
       "      <th>34</th>\n",
       "      <td>Izze</td>\n",
       "      <td>20</td>\n",
       "    </tr>\n",
       "    <tr>\n",
       "      <th>35</th>\n",
       "      <td>Nantucket Nectar</td>\n",
       "      <td>27</td>\n",
       "    </tr>\n",
       "    <tr>\n",
       "      <th>36</th>\n",
       "      <td>Salad</td>\n",
       "      <td>2</td>\n",
       "    </tr>\n",
       "    <tr>\n",
       "      <th>37</th>\n",
       "      <td>Side of Chips</td>\n",
       "      <td>101</td>\n",
       "    </tr>\n",
       "    <tr>\n",
       "      <th>38</th>\n",
       "      <td>Steak Bowl</td>\n",
       "      <td>211</td>\n",
       "    </tr>\n",
       "    <tr>\n",
       "      <th>39</th>\n",
       "      <td>Steak Burrito</td>\n",
       "      <td>368</td>\n",
       "    </tr>\n",
       "    <tr>\n",
       "      <th>40</th>\n",
       "      <td>Steak Crispy Tacos</td>\n",
       "      <td>35</td>\n",
       "    </tr>\n",
       "    <tr>\n",
       "      <th>41</th>\n",
       "      <td>Steak Salad</td>\n",
       "      <td>4</td>\n",
       "    </tr>\n",
       "    <tr>\n",
       "      <th>42</th>\n",
       "      <td>Steak Salad Bowl</td>\n",
       "      <td>29</td>\n",
       "    </tr>\n",
       "    <tr>\n",
       "      <th>43</th>\n",
       "      <td>Steak Soft Tacos</td>\n",
       "      <td>55</td>\n",
       "    </tr>\n",
       "    <tr>\n",
       "      <th>44</th>\n",
       "      <td>Veggie Bowl</td>\n",
       "      <td>85</td>\n",
       "    </tr>\n",
       "    <tr>\n",
       "      <th>45</th>\n",
       "      <td>Veggie Burrito</td>\n",
       "      <td>95</td>\n",
       "    </tr>\n",
       "    <tr>\n",
       "      <th>46</th>\n",
       "      <td>Veggie Crispy Tacos</td>\n",
       "      <td>1</td>\n",
       "    </tr>\n",
       "    <tr>\n",
       "      <th>47</th>\n",
       "      <td>Veggie Salad</td>\n",
       "      <td>6</td>\n",
       "    </tr>\n",
       "    <tr>\n",
       "      <th>48</th>\n",
       "      <td>Veggie Salad Bowl</td>\n",
       "      <td>18</td>\n",
       "    </tr>\n",
       "    <tr>\n",
       "      <th>49</th>\n",
       "      <td>Veggie Soft Tacos</td>\n",
       "      <td>7</td>\n",
       "    </tr>\n",
       "  </tbody>\n",
       "</table>\n",
       "</div>"
      ],
      "text/plain": [
       "                                item_name  Count of Items\n",
       "0                       6 Pack Soft Drink              54\n",
       "1                           Barbacoa Bowl              66\n",
       "2                        Barbacoa Burrito              91\n",
       "3                   Barbacoa Crispy Tacos              11\n",
       "4                     Barbacoa Salad Bowl              10\n",
       "5                     Barbacoa Soft Tacos              25\n",
       "6                           Bottled Water             162\n",
       "7                                    Bowl               2\n",
       "8                                 Burrito               6\n",
       "9                             Canned Soda             104\n",
       "10                      Canned Soft Drink             301\n",
       "11                          Carnitas Bowl              68\n",
       "12                       Carnitas Burrito              59\n",
       "13                  Carnitas Crispy Tacos               7\n",
       "14                         Carnitas Salad               1\n",
       "15                    Carnitas Salad Bowl               6\n",
       "16                    Carnitas Soft Tacos              40\n",
       "17                           Chicken Bowl             726\n",
       "18                        Chicken Burrito             553\n",
       "19                   Chicken Crispy Tacos              47\n",
       "20                          Chicken Salad               9\n",
       "21                     Chicken Salad Bowl             110\n",
       "22                     Chicken Soft Tacos             115\n",
       "23                                  Chips             211\n",
       "24           Chips and Fresh Tomato Salsa             110\n",
       "25                    Chips and Guacamole             479\n",
       "26      Chips and Mild Fresh Tomato Salsa               1\n",
       "27     Chips and Roasted Chili Corn Salsa              22\n",
       "28     Chips and Roasted Chili-Corn Salsa              18\n",
       "29  Chips and Tomatillo Green Chili Salsa              43\n",
       "30    Chips and Tomatillo Red Chili Salsa              48\n",
       "31  Chips and Tomatillo-Green Chili Salsa              31\n",
       "32    Chips and Tomatillo-Red Chili Salsa              20\n",
       "33                           Crispy Tacos               2\n",
       "34                                   Izze              20\n",
       "35                       Nantucket Nectar              27\n",
       "36                                  Salad               2\n",
       "37                          Side of Chips             101\n",
       "38                             Steak Bowl             211\n",
       "39                          Steak Burrito             368\n",
       "40                     Steak Crispy Tacos              35\n",
       "41                            Steak Salad               4\n",
       "42                       Steak Salad Bowl              29\n",
       "43                       Steak Soft Tacos              55\n",
       "44                            Veggie Bowl              85\n",
       "45                         Veggie Burrito              95\n",
       "46                    Veggie Crispy Tacos               1\n",
       "47                           Veggie Salad               6\n",
       "48                      Veggie Salad Bowl              18\n",
       "49                      Veggie Soft Tacos               7"
      ]
     },
     "execution_count": 6,
     "metadata": {},
     "output_type": "execute_result"
    }
   ],
   "source": [
    "chipo.groupby(['item_name'])['item_name'].count().reset_index(name=\"Count of Items\")"
   ]
  },
  {
   "cell_type": "raw",
   "id": "262d5f10",
   "metadata": {},
   "source": [
    "Step 9 (Modified with assigning a column name to the count aggregate results and sorted by the aggregate column)"
   ]
  },
  {
   "cell_type": "code",
   "execution_count": 7,
   "id": "cf5ad40d",
   "metadata": {},
   "outputs": [
    {
     "name": "stdout",
     "output_type": "stream",
     "text": [
      "                                item_name  Count of Items\n",
      "17                           Chicken Bowl             726\n",
      "18                        Chicken Burrito             553\n",
      "25                    Chips and Guacamole             479\n",
      "39                          Steak Burrito             368\n",
      "10                      Canned Soft Drink             301\n",
      "38                             Steak Bowl             211\n",
      "23                                  Chips             211\n",
      "6                           Bottled Water             162\n",
      "22                     Chicken Soft Tacos             115\n",
      "21                     Chicken Salad Bowl             110\n",
      "24           Chips and Fresh Tomato Salsa             110\n",
      "9                             Canned Soda             104\n",
      "37                          Side of Chips             101\n",
      "45                         Veggie Burrito              95\n",
      "2                        Barbacoa Burrito              91\n",
      "44                            Veggie Bowl              85\n",
      "11                          Carnitas Bowl              68\n",
      "1                           Barbacoa Bowl              66\n",
      "12                       Carnitas Burrito              59\n",
      "43                       Steak Soft Tacos              55\n",
      "0                       6 Pack Soft Drink              54\n",
      "30    Chips and Tomatillo Red Chili Salsa              48\n",
      "19                   Chicken Crispy Tacos              47\n",
      "29  Chips and Tomatillo Green Chili Salsa              43\n",
      "16                    Carnitas Soft Tacos              40\n",
      "40                     Steak Crispy Tacos              35\n",
      "31  Chips and Tomatillo-Green Chili Salsa              31\n",
      "42                       Steak Salad Bowl              29\n",
      "35                       Nantucket Nectar              27\n",
      "5                     Barbacoa Soft Tacos              25\n",
      "27     Chips and Roasted Chili Corn Salsa              22\n",
      "32    Chips and Tomatillo-Red Chili Salsa              20\n",
      "34                                   Izze              20\n",
      "48                      Veggie Salad Bowl              18\n",
      "28     Chips and Roasted Chili-Corn Salsa              18\n",
      "3                   Barbacoa Crispy Tacos              11\n",
      "4                     Barbacoa Salad Bowl              10\n",
      "20                          Chicken Salad               9\n",
      "13                  Carnitas Crispy Tacos               7\n",
      "49                      Veggie Soft Tacos               7\n",
      "8                                 Burrito               6\n",
      "47                           Veggie Salad               6\n",
      "15                    Carnitas Salad Bowl               6\n",
      "41                            Steak Salad               4\n",
      "7                                    Bowl               2\n",
      "36                                  Salad               2\n",
      "33                           Crispy Tacos               2\n",
      "26      Chips and Mild Fresh Tomato Salsa               1\n",
      "14                         Carnitas Salad               1\n",
      "46                    Veggie Crispy Tacos               1\n"
     ]
    }
   ],
   "source": [
    "chipo_grouped_count = chipo.groupby(['item_name'])['item_name'].count().reset_index(name=\"Count of Items\")\n",
    "chipo_count_sorted_count = chipo_grouped_count.sort_values('Count of Items', ascending=False)\n",
    "print(chipo_count_sorted_count)"
   ]
  },
  {
   "cell_type": "raw",
   "id": "130632f6",
   "metadata": {},
   "source": [
    "Step 10. For the most-ordered item, how many items were ordered?\n",
    "See above (Step 9 related). \n",
    "\n",
    "Answer: For the most ordered item a total of 726 items were ordered"
   ]
  },
  {
   "cell_type": "raw",
   "id": "aa1b74f1",
   "metadata": {},
   "source": [
    "Step 11. What was the most ordered item in the choice_description column?\n",
    "\n",
    "Answer: The most ordered item in the choice description is [Diet Coke]"
   ]
  },
  {
   "cell_type": "code",
   "execution_count": 17,
   "id": "47cedf88",
   "metadata": {},
   "outputs": [
    {
     "name": "stdout",
     "output_type": "stream",
     "text": [
      "                                     choice_description  Count of Items\n",
      "15                                          [Diet Coke]             134\n",
      "14                                               [Coke]             123\n",
      "...                                                 ...             ...\n",
      "489   [Roasted Chili Corn Salsa, [Fajita Vegetables,...               1\n",
      "1042  [[Tomatillo-Red Chili Salsa (Hot), Tomatillo-G...               1\n",
      "\n",
      "[1043 rows x 2 columns]\n"
     ]
    }
   ],
   "source": [
    "'''\n",
    "The option context of Pandas being used to modify the number of rows and columns to display\n",
    "The settings are local to this statement i.e. they don't work for other dataframes further down\n",
    "'''\n",
    "\n",
    "with pd.option_context('display.max_rows', 5,\n",
    "                        'display.max_columns', None,\n",
    "                        'display.precision',3):\n",
    "\n",
    "    chipo_grouped_count = chipo.groupby(['choice_description'])['choice_description'].count().reset_index(name=\"Count of Items\")\n",
    "    chipo_count_sorted_count = chipo_grouped_count.sort_values('Count of Items', ascending=False)\n",
    "    print(chipo_count_sorted_count)"
   ]
  },
  {
   "cell_type": "raw",
   "id": "9cd45274",
   "metadata": {},
   "source": [
    "# Step 12. How many items were ordered in total\n",
    "\n",
    "Answer: There were 4,972 items ordered (being the sum of the quantity column)"
   ]
  },
  {
   "cell_type": "code",
   "execution_count": 12,
   "id": "63aec5f6",
   "metadata": {},
   "outputs": [
    {
     "name": "stdout",
     "output_type": "stream",
     "text": [
      "4972\n"
     ]
    }
   ],
   "source": [
    "print(chipo['quantity'].sum())"
   ]
  },
  {
   "cell_type": "raw",
   "id": "c1a41f44",
   "metadata": {},
   "source": [
    "Step 13. Turn the item price into a float"
   ]
  },
  {
   "cell_type": "code",
   "execution_count": 13,
   "id": "e74812f1",
   "metadata": {},
   "outputs": [
    {
     "data": {
      "text/plain": [
       "order_id               int64\n",
       "quantity               int64\n",
       "item_name             object\n",
       "choice_description    object\n",
       "item_price            object\n",
       "dtype: object"
      ]
     },
     "execution_count": 13,
     "metadata": {},
     "output_type": "execute_result"
    }
   ],
   "source": [
    "# Get get the data types of all the columns in the data frame\n",
    "chipo.dtypes"
   ]
  },
  {
   "cell_type": "raw",
   "id": "381a55ce",
   "metadata": {},
   "source": [
    "Begin - Example: (Test out turn item price into a float)"
   ]
  },
  {
   "cell_type": "code",
   "execution_count": 21,
   "id": "2bd6db0e",
   "metadata": {},
   "outputs": [],
   "source": [
    "data = {'A': ['1.1', '2.2', '3.3'], 'B': ['4.4', '5.5', '6.6']}"
   ]
  },
  {
   "cell_type": "code",
   "execution_count": 22,
   "id": "a318ffbe",
   "metadata": {},
   "outputs": [
    {
     "name": "stdout",
     "output_type": "stream",
     "text": [
      "{'A': ['1.1', '2.2', '3.3'], 'B': ['4.4', '5.5', '6.6']}\n"
     ]
    }
   ],
   "source": [
    "print(data)"
   ]
  },
  {
   "cell_type": "code",
   "execution_count": 23,
   "id": "d440fb7b",
   "metadata": {},
   "outputs": [],
   "source": [
    "df = pd.DataFrame(data)"
   ]
  },
  {
   "cell_type": "code",
   "execution_count": 24,
   "id": "e035b5e5",
   "metadata": {},
   "outputs": [
    {
     "name": "stdout",
     "output_type": "stream",
     "text": [
      "     A    B\n",
      "0  1.1  4.4\n",
      "1  2.2  5.5\n",
      "2  3.3  6.6\n"
     ]
    }
   ],
   "source": [
    "print(df)"
   ]
  },
  {
   "cell_type": "code",
   "execution_count": 25,
   "id": "e72bc7a4",
   "metadata": {},
   "outputs": [
    {
     "name": "stdout",
     "output_type": "stream",
     "text": [
      "A    object\n",
      "B    object\n",
      "dtype: object\n"
     ]
    }
   ],
   "source": [
    "print(df.dtypes)"
   ]
  },
  {
   "cell_type": "code",
   "execution_count": 26,
   "id": "142a2546",
   "metadata": {},
   "outputs": [],
   "source": [
    "df['A'] =df['A'].astype(float)"
   ]
  },
  {
   "cell_type": "code",
   "execution_count": 27,
   "id": "3c273a23",
   "metadata": {},
   "outputs": [
    {
     "name": "stdout",
     "output_type": "stream",
     "text": [
      "     A    B\n",
      "0  1.1  4.4\n",
      "1  2.2  5.5\n",
      "2  3.3  6.6\n"
     ]
    }
   ],
   "source": [
    "print(df)"
   ]
  },
  {
   "cell_type": "code",
   "execution_count": 28,
   "id": "9cb1f6da",
   "metadata": {},
   "outputs": [
    {
     "name": "stdout",
     "output_type": "stream",
     "text": [
      "A    float64\n",
      "B     object\n",
      "dtype: object\n"
     ]
    }
   ],
   "source": [
    "print(df.dtypes)"
   ]
  },
  {
   "cell_type": "raw",
   "id": "233758b1",
   "metadata": {},
   "source": [
    "End - Example: (Test out turn item price into a float)"
   ]
  },
  {
   "cell_type": "code",
   "execution_count": 18,
   "id": "0be17367",
   "metadata": {
    "scrolled": true
   },
   "outputs": [
    {
     "name": "stdout",
     "output_type": "stream",
     "text": [
      "order_id                int64\n",
      "quantity                int64\n",
      "item_name              object\n",
      "choice_description     object\n",
      "item_price            float64\n",
      "dtype: object\n"
     ]
    },
    {
     "data": {
      "text/plain": [
       "dtype('float64')"
      ]
     },
     "execution_count": 18,
     "metadata": {},
     "output_type": "execute_result"
    }
   ],
   "source": [
    "print(chipo.dtypes)"
   ]
  },
  {
   "cell_type": "code",
   "execution_count": 14,
   "id": "a98d2167",
   "metadata": {},
   "outputs": [],
   "source": [
    "chipo['item_price'] = chipo['item_price'].str.replace('$','')"
   ]
  },
  {
   "cell_type": "code",
   "execution_count": 30,
   "id": "1ac5a901",
   "metadata": {},
   "outputs": [
    {
     "name": "stdout",
     "output_type": "stream",
     "text": [
      "0        2.39 \n",
      "1        3.39 \n",
      "2        3.39 \n",
      "3        2.39 \n",
      "4       16.98 \n",
      "         ...  \n",
      "4617    11.75 \n",
      "4618    11.75 \n",
      "4619    11.25 \n",
      "4620     8.75 \n",
      "4621     8.75 \n",
      "Name: item_price, Length: 4622, dtype: object\n"
     ]
    }
   ],
   "source": [
    "with pd.option_context('display.max_rows', 10,\n",
    "                        'display.max_columns', None,\n",
    "                        'display.precision',3):\n",
    "\n",
    "\n",
    "    print(chipo['item_price'])"
   ]
  },
  {
   "cell_type": "code",
   "execution_count": 31,
   "id": "12492954",
   "metadata": {},
   "outputs": [],
   "source": [
    "chipo['item_price'] = chipo['item_price'].astype(float)"
   ]
  },
  {
   "cell_type": "raw",
   "id": "a64b81d1",
   "metadata": {},
   "source": [
    " Step 13.a: Check the item price type"
   ]
  },
  {
   "cell_type": "code",
   "execution_count": 24,
   "id": "c9c8624f",
   "metadata": {},
   "outputs": [
    {
     "name": "stdout",
     "output_type": "stream",
     "text": [
      "order_id                int64\n",
      "quantity                int64\n",
      "item_name              object\n",
      "choice_description     object\n",
      "item_price            float64\n",
      "dtype: object\n"
     ]
    }
   ],
   "source": [
    "print(chipo.dtypes)"
   ]
  },
  {
   "cell_type": "raw",
   "id": "0a169f80",
   "metadata": {},
   "source": [
    "Step 13.b. Create a lambda function and change the type of item price"
   ]
  },
  {
   "cell_type": "raw",
   "id": "6866e100",
   "metadata": {},
   "source": [
    "Begin - Example: Lambda Functions\n",
    "https://www.w3schools.com/python/python_lambda.asp\n"
   ]
  },
  {
   "cell_type": "code",
   "execution_count": 1,
   "id": "139a2309",
   "metadata": {},
   "outputs": [
    {
     "name": "stdout",
     "output_type": "stream",
     "text": [
      "22\n",
      "33\n"
     ]
    }
   ],
   "source": [
    "'''\n",
    "The lamda function enables different versions of the same function e.g. function can double or triple a number passed to it\n",
    "but the core function is setting the terms of the mulplication allowing the defined function to have different parameters \n",
    "but doing the same function\n",
    "'''\n",
    "\n",
    "def myfunc(n):\n",
    "    return lambda a : a * n\n",
    "    \n",
    "mydoubler = myfunc(2)\n",
    "mytripler = myfunc(3)\n",
    "\n",
    "print(mydoubler(11))\n",
    "print(mytripler(11))"
   ]
  },
  {
   "cell_type": "code",
   "execution_count": null,
   "id": "e77d7e07",
   "metadata": {},
   "outputs": [],
   "source": [
    "End - Example: Lambda Functions"
   ]
  },
  {
   "cell_type": "code",
   "execution_count": 43,
   "id": "1c37d774",
   "metadata": {},
   "outputs": [],
   "source": [
    "chipo['item_price'] = chipo['item_price'].astype(object)"
   ]
  },
  {
   "cell_type": "code",
   "execution_count": 44,
   "id": "8c379f05",
   "metadata": {},
   "outputs": [
    {
     "data": {
      "text/plain": [
       "dtype('O')"
      ]
     },
     "execution_count": 44,
     "metadata": {},
     "output_type": "execute_result"
    }
   ],
   "source": [
    "chipo.item_price.dtype"
   ]
  },
  {
   "cell_type": "code",
   "execution_count": 45,
   "id": "7324ee3d",
   "metadata": {},
   "outputs": [],
   "source": [
    "dollarizer = lambda x: float(x[1:-1])\n",
    "chipo.item_price = chipo.item_price.apply(dollarizer)"
   ]
  },
  {
   "cell_type": "code",
   "execution_count": 46,
   "id": "53cb7fdb",
   "metadata": {},
   "outputs": [
    {
     "data": {
      "text/plain": [
       "dtype('float64')"
      ]
     },
     "execution_count": 46,
     "metadata": {},
     "output_type": "execute_result"
    }
   ],
   "source": [
    "chipo.item_price.dtype"
   ]
  },
  {
   "cell_type": "raw",
   "id": "80f5aa0e",
   "metadata": {},
   "source": [
    "String Slicing"
   ]
  },
  {
   "cell_type": "code",
   "execution_count": 50,
   "id": "2531e2bd",
   "metadata": {},
   "outputs": [
    {
     "name": "stdout",
     "output_type": "stream",
     "text": [
      "10.9\n"
     ]
    }
   ],
   "source": [
    "#Note: [1:-1]; slice the first and last latter\n",
    "\n",
    "v = \"$10.98\"\n",
    "v = v[1:-1]\n",
    "\n",
    "print(v)"
   ]
  },
  {
   "cell_type": "code",
   "execution_count": null,
   "id": "55501fbe",
   "metadata": {},
   "outputs": [],
   "source": []
  }
 ],
 "metadata": {
  "kernelspec": {
   "display_name": "Python 3 (ipykernel)",
   "language": "python",
   "name": "python3"
  },
  "language_info": {
   "codemirror_mode": {
    "name": "ipython",
    "version": 3
   },
   "file_extension": ".py",
   "mimetype": "text/x-python",
   "name": "python",
   "nbconvert_exporter": "python",
   "pygments_lexer": "ipython3",
   "version": "3.11.3"
  }
 },
 "nbformat": 4,
 "nbformat_minor": 5
}
